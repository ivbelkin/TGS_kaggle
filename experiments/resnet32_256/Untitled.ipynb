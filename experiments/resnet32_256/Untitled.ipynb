{
 "cells": [
  {
   "cell_type": "code",
   "execution_count": 1,
   "metadata": {},
   "outputs": [],
   "source": [
    "import numpy as np\n",
    "import torch\n",
    "import cv2\n",
    "import matplotlib.pyplot as plt\n",
    "import os\n",
    "import multiprocessing as mp\n",
    "\n",
    "from code.models import basicunet, resnetunet\n",
    "from code.datasets import TGSAugDataset\n",
    "from code.configs import *\n",
    "from code.train import *\n",
    "from code.losses import FocalRobustLoss\n",
    "from code.metrics import *\n",
    "from code.augmentations import *\n",
    "from code.utils import *\n",
    "from torch.utils.data import DataLoader\n",
    "from IPython.display import clear_output\n",
    "from code.inference import *\n",
    "\n",
    "%matplotlib inline"
   ]
  },
  {
   "cell_type": "code",
   "execution_count": 27,
   "metadata": {},
   "outputs": [],
   "source": [
    "def train_augment(image, mask):\n",
    "    if np.random.rand() < 0.5:\n",
    "        image, mask = do_horizontal_flip2(image, mask)\n",
    "\n",
    "    if mask.sum() == 0:\n",
    "        if np.random.rand() < 0.6:\n",
    "            image, mask = do_elastic_transform2(image, mask, grid=10,\n",
    "                                                distort=np.random.uniform(0, 0.15))\n",
    "        if np.random.rand() < 0.6:\n",
    "            image, mask = do_random_shift_scale_crop_pad2(image, mask, 0.2)\n",
    "        if np.random.rand() < 0.6:\n",
    "            image, mask = do_shift_scale_rotate2(image, mask, dx=0, dy=0, scale=1,\n",
    "                                                 angle=np.random.uniform(0, 10))\n",
    "        if np.random.rand() < 0.6:\n",
    "            image, mask = do_horizontal_shear2(image, mask, dx=np.random.uniform(-0.07, 0.07))\n",
    "    else:\n",
    "        c = np.random.choice(4)\n",
    "        if c == 0:\n",
    "            image, mask = do_elastic_transform2(image, mask, grid=10,\n",
    "                                                distort=np.random.uniform(0, 0.15))\n",
    "        elif c == 1:\n",
    "            image, mask = do_random_shift_scale_crop_pad2(image, mask, 0.2)\n",
    "        elif c == 2:\n",
    "            angle = np.random.uniform(0, 15)\n",
    "            scale = compute_scale_from_angle(angle * np.pi / 180)\n",
    "            image, mask = do_shift_scale_rotate2(image, mask, dx=0, dy=0, scale=scale,\n",
    "                                                 angle=angle)\n",
    "        elif c == 3:\n",
    "            dx = np.random.uniform(-0.07, 0.07)\n",
    "            image, mask = do_horizontal_shear2(image, mask, dx=dx)\n",
    "            image, mask = do_random_crop_from_sheared2(image, mask, dx=dx, limit=0.2)\n",
    "            \n",
    "    if np.random.rand() < 0.3:\n",
    "        c = np.random.choice(3)\n",
    "        if c == 0:\n",
    "            image = do_brightness_shift(image, np.random.uniform(-0.1, 0.1))  # 0.05\n",
    "        elif c == 1:\n",
    "            image = do_brightness_multiply(image, np.random.uniform(1 - 0.08, 1 + 0.08))  # 0.05\n",
    "        elif c == 2:\n",
    "            image = do_gamma(image, np.random.uniform(1 - 0.08, 1 + 0.08))  # 0.05\n",
    "\n",
    "    #kernel = cv2.getStructuringElement(cv2.MORPH_ELLIPSE, (3, 3))\n",
    "    #mask = cv2.morphologyEx(mask, cv2.MORPH_OPEN, kernel)\n",
    "    \n",
    "    #image, mask = do_resize2(image, mask, 202, 202)\n",
    "    image, mask = do_center_pad_to_factor2(image, mask, factor=32)\n",
    "    #image, mask = do_resize2(image, mask, 128, 128)\n",
    "    \n",
    "    return image, mask\n",
    "\n",
    "def compute_scale_from_angle(angle):\n",
    "    return np.sin(angle) + np.cos(angle)\n",
    "\n",
    "def do_random_perspective2(image, mask, limit):\n",
    "    borderMode=cv2.BORDER_REFLECT_101\n",
    "    #cv2.BORDER_REFLECT_101  cv2.BORDER_CONSTANT\n",
    "\n",
    "    H, W = image.shape[:2]\n",
    "    H_lim = int(limit * H)\n",
    "    W_lim = int(limit * W)\n",
    "    \n",
    "    dx1 = np.random.randint(1, W_lim)\n",
    "    dy1 = np.random.randint(1, H_lim)\n",
    "    \n",
    "    dx2 = np.random.randint(1, W_lim)\n",
    "    dy2 = np.random.randint(1, H_lim)\n",
    "    \n",
    "    dx3 = np.random.randint(1, W_lim)\n",
    "    dy3 = np.random.randint(1, H_lim)\n",
    "    \n",
    "    dx4 = np.random.randint(1, W_lim)\n",
    "    dy4 = np.random.randint(1, H_lim)\n",
    "\n",
    "    box0 = np.array([[0, 0], [W, 0],  [W, H], [0, H]], np.float32)\n",
    "    #box1 = np.array([[dx, 0], [W + dx, 0], [W - dx, H], [-dx, H]], np.float32)\n",
    "    box1 = np.array([[-dx1, -dy1], [W + dx2, -dy2], [W + dx3, H + dy3], [-dx4, H + dy4]], \n",
    "                    np.float32)\n",
    "\n",
    "    box0 = box0.astype(np.float32)\n",
    "    box1 = box1.astype(np.float32)\n",
    "    mat = cv2.getPerspectiveTransform(box0, box1)\n",
    "\n",
    "    image = cv2.warpPerspective(image, mat, (W, H),flags=cv2.INTER_LINEAR,\n",
    "                                borderMode=borderMode, borderValue=(0, 0, 0))  #cv2.BORDER_CONSTANT, borderValue = (0, 0, 0))  #cv2.BORDER_REFLECT_101\n",
    "    mask  = cv2.warpPerspective(mask, mat, (W, H),flags=cv2.INTER_NEAREST,#cv2.INTER_LINEAR\n",
    "                                borderMode=borderMode, borderValue=(0, 0, 0))  #cv2.BORDER_CONSTANT, borderValue = (0, 0, 0))  #cv2.BORDER_REFLECT_101\n",
    "    mask  = (mask > 0.5).astype(np.float32)\n",
    "    \n",
    "    return image, mask\n",
    "\n",
    "def do_random_crop_from_sheared2(image, mask, dx, limit=0.10):\n",
    "    if dx < 0:\n",
    "        neg = True\n",
    "        dx = -dx\n",
    "    else:\n",
    "        neg = False\n",
    "    \n",
    "    if neg:\n",
    "        image, mask = image[::-1,:], mask[::-1,:]\n",
    "        \n",
    "    H, W = image.shape[:2]\n",
    "\n",
    "    z = int(W * limit)\n",
    "    x0 = np.random.randint(0, z)\n",
    "    x1 = W - np.random.randint(0, z)\n",
    "    \n",
    "    y0 = max(0, int(H * (1 - x0 / (W * dx)) / 2))\n",
    "    y1 = min(W, int(H * (1 - x1 / (W * dx) + 1 / dx) / 2))\n",
    "    \n",
    "    print(x0, y0, x1, y1)\n",
    "\n",
    "    image, mask = do_shift_scale_crop(image, mask, x0, y0, x1, y1)\n",
    "    \n",
    "    if neg:\n",
    "        image, mask = image[::-1,:], mask[::-1,:]\n",
    "    \n",
    "    return image, mask\n",
    "\n",
    "def test_augment(image, mask):\n",
    "    #image, mask = do_resize2(image, mask, 202, 202)\n",
    "    image, mask = do_center_pad_to_factor2(image, mask, factor=32)\n",
    "    #image, mask = do_resize2(image, mask, 128, 128)\n",
    "    return image, mask"
   ]
  },
  {
   "cell_type": "code",
   "execution_count": 3,
   "metadata": {},
   "outputs": [
    {
     "data": {
      "application/vnd.jupyter.widget-view+json": {
       "model_id": "6326c604828e4097bb284b7f559e7f3a",
       "version_major": 2,
       "version_minor": 0
      },
      "text/plain": [
       "HBox(children=(IntProgress(value=0, max=3136), HTML(value='')))"
      ]
     },
     "metadata": {},
     "output_type": "display_data"
    },
    {
     "name": "stdout",
     "output_type": "stream",
     "text": [
      "\n"
     ]
    },
    {
     "data": {
      "application/vnd.jupyter.widget-view+json": {
       "model_id": "feaea072fe5943318caebb6116a671df",
       "version_major": 2,
       "version_minor": 0
      },
      "text/plain": [
       "HBox(children=(IntProgress(value=0, max=784), HTML(value='')))"
      ]
     },
     "metadata": {},
     "output_type": "display_data"
    },
    {
     "name": "stdout",
     "output_type": "stream",
     "text": [
      "\n"
     ]
    }
   ],
   "source": [
    "train_ds = TGSAugDataset(augmenter=train_augment, path=os.path.join(PATH_TO_SALT_CV, \"fold-1/train\"), \n",
    "                         path_to_depths=PATH_TO_DEPTHS, progress_bar=True)\n",
    "valid_ds = TGSAugDataset(augmenter=test_augment, path=os.path.join(PATH_TO_SALT_CV, \"fold-1/valid\"), \n",
    "                         path_to_depths=PATH_TO_DEPTHS, progress_bar=True)"
   ]
  },
  {
   "cell_type": "code",
   "execution_count": 69,
   "metadata": {},
   "outputs": [
    {
     "data": {
      "text/plain": [
       "<matplotlib.image.AxesImage at 0x7ff334defd30>"
      ]
     },
     "execution_count": 69,
     "metadata": {},
     "output_type": "execute_result"
    },
    {
     "data": {
      "image/png": "[encoded data removed]",
      "text/plain": [
       "<Figure size 720x360 with 2 Axes>"
      ]
     },
     "metadata": {
      "needs_background": "light"
     },
     "output_type": "display_data"
    }
   ],
   "source": [
    "r = train_ds.data[0]\n",
    "\n",
    "k = np.zeros((101, 101))\n",
    "k[0,:] = k[-1,:] = k[:,0] = k[:,-1] = 1\n",
    "k[39,:] = k[-40,:] = k[:,39] = k[:,-40] = 1\n",
    "\n",
    "image, mask = k, k\n",
    "image, mask = do_random_perspective2(image, mask, 0.3)\n",
    "\n",
    "plt.figure(figsize=[10, 5])\n",
    "plt.subplot(1, 2, 1)\n",
    "plt.imshow(image)\n",
    "plt.subplot(1, 2, 2)\n",
    "plt.imshow(mask)"
   ]
  },
  {
   "cell_type": "code",
   "execution_count": 50,
   "metadata": {},
   "outputs": [
    {
     "data": {
      "text/plain": [
       "1.1584559306791384"
      ]
     },
     "execution_count": 50,
     "metadata": {},
     "output_type": "execute_result"
    }
   ],
   "source": [
    "compute_scale_from_angle(10 * np.pi / 180)"
   ]
  },
  {
   "cell_type": "code",
   "execution_count": 70,
   "metadata": {},
   "outputs": [
    {
     "data": {
      "text/plain": [
       "0.0"
      ]
     },
     "execution_count": 70,
     "metadata": {},
     "output_type": "execute_result"
    }
   ],
   "source": [
    "r[\"mask\"]"
   ]
  },
  {
   "cell_type": "code",
   "execution_count": null,
   "metadata": {},
   "outputs": [],
   "source": []
  }
 ],
 "metadata": {
  "kernelspec": {
   "display_name": "Python 3",
   "language": "python",
   "name": "python3"
  },
  "language_info": {
   "codemirror_mode": {
    "name": "ipython",
    "version": 3
   },
   "file_extension": ".py",
   "mimetype": "text/x-python",
   "name": "python",
   "nbconvert_exporter": "python",
   "pygments_lexer": "ipython3",
   "version": "3.5.2"
  }
 },
 "nbformat": 4,
 "nbformat_minor": 2
}
