{
 "cells": [
  {
   "cell_type": "code",
   "execution_count": 1,
   "metadata": {},
   "outputs": [],
   "source": [
    "import numpy as np\n",
    "import torch\n",
    "import cv2\n",
    "import matplotlib.pyplot as plt\n",
    "import os\n",
    "import multiprocessing as mp\n",
    "\n",
    "from code.models import basicunet, resnetunet\n",
    "from code.datasets import TGSAugDataset\n",
    "from code.configs import *\n",
    "from code.train import *\n",
    "from code.losses import FocalRobustLoss\n",
    "from code.metrics import *\n",
    "from code.augmentations import *\n",
    "from code.utils import *\n",
    "from torch.utils.data import DataLoader\n",
    "from IPython.display import clear_output\n",
    "from code.inference import *\n",
    "\n",
    "%matplotlib inline"
   ]
  },
  {
   "cell_type": "code",
   "execution_count": 2,
   "metadata": {},
   "outputs": [],
   "source": [
    "def train_augment(image, mask):\n",
    "    if np.random.rand() < 0.5:\n",
    "        image, mask = do_horizontal_flip2(image, mask)\n",
    "\n",
    "    if mask.sum() == 0:\n",
    "        if np.random.rand() < 0.6:\n",
    "            image, mask = do_elastic_transform2(image, mask, grid=10,\n",
    "                                                distort=np.random.uniform(0, 0.15))\n",
    "        if np.random.rand() < 0.6:\n",
    "            image, mask = do_random_shift_scale_crop_pad2(image, mask, 0.2)\n",
    "        if np.random.rand() < 0.6:\n",
    "            angle = np.random.uniform(0, 15)\n",
    "            scale = compute_scale_from_angle(angle * np.pi / 180)\n",
    "            image, mask = do_shift_scale_rotate2(image, mask, dx=0, dy=0, scale=scale,\n",
    "                                                 angle=angle)\n",
    "        if np.random.rand() < 0.6:\n",
    "            image, mask = do_random_perspective2(image, mask, 0.3)\n",
    "    else:\n",
    "        c = np.random.choice(4)\n",
    "        if c == 0:\n",
    "            image, mask = do_elastic_transform2(image, mask, grid=10,\n",
    "                                                distort=np.random.uniform(0, 0.15))\n",
    "        elif c == 1:\n",
    "            image, mask = do_random_shift_scale_crop_pad2(image, mask, 0.2)\n",
    "        elif c == 2:\n",
    "            angle = np.random.uniform(0, 15)\n",
    "            scale = compute_scale_from_angle(angle * np.pi / 180)\n",
    "            image, mask = do_shift_scale_rotate2(image, mask, dx=0, dy=0, scale=scale,\n",
    "                                                 angle=angle)\n",
    "        elif c == 3:\n",
    "            image, mask = do_random_perspective2(image, mask, 0.3)\n",
    "            \n",
    "    if np.random.rand() < 0.3:\n",
    "        c = np.random.choice(3)\n",
    "        if c == 0:\n",
    "            image = do_brightness_shift(image, np.random.uniform(-0.1, 0.1))  # 0.05\n",
    "        elif c == 1:\n",
    "            image = do_brightness_multiply(image, np.random.uniform(1 - 0.08, 1 + 0.08))  # 0.05\n",
    "        elif c == 2:\n",
    "            image = do_gamma(image, np.random.uniform(1 - 0.08, 1 + 0.08))  # 0.05\n",
    "\n",
    "    kernel = cv2.getStructuringElement(cv2.MORPH_ELLIPSE, (3, 3))\n",
    "    mask = cv2.morphologyEx(mask, cv2.MORPH_OPEN, kernel)\n",
    "    \n",
    "    image, mask = do_resize2(image, mask, 202, 202)\n",
    "    image, mask = do_center_pad_to_factor2(image, mask, factor=64)\n",
    "    #image, mask = do_resize2(image, mask, 128, 128)\n",
    "    \n",
    "    return image, mask\n",
    "\n",
    "\n",
    "def test_augment(image, mask):\n",
    "    image, mask = do_resize2(image, mask, 202, 202)\n",
    "    image, mask = do_center_pad_to_factor2(image, mask, factor=64)\n",
    "    #image, mask = do_resize2(image, mask, 128, 128)\n",
    "    return image, mask"
   ]
  },
  {
   "cell_type": "code",
   "execution_count": 3,
   "metadata": {},
   "outputs": [
    {
     "data": {
      "application/vnd.jupyter.widget-view+json": {
       "model_id": "a1e113caf5664ec58f71b171381aee2e",
       "version_major": 2,
       "version_minor": 0
      },
      "text/plain": [
       "HBox(children=(IntProgress(value=0, max=3136), HTML(value='')))"
      ]
     },
     "metadata": {},
     "output_type": "display_data"
    },
    {
     "name": "stdout",
     "output_type": "stream",
     "text": [
      "\n"
     ]
    },
    {
     "data": {
      "application/vnd.jupyter.widget-view+json": {
       "model_id": "f3c274456d494820a56ab1906fce742a",
       "version_major": 2,
       "version_minor": 0
      },
      "text/plain": [
       "HBox(children=(IntProgress(value=0, max=784), HTML(value='')))"
      ]
     },
     "metadata": {},
     "output_type": "display_data"
    },
    {
     "name": "stdout",
     "output_type": "stream",
     "text": [
      "\n"
     ]
    }
   ],
   "source": [
    "train_ds = TGSAugDataset(augmenter=train_augment, path=os.path.join(PATH_TO_SALT_CV, \"fold-1/train\"), \n",
    "                         path_to_depths=PATH_TO_DEPTHS, progress_bar=True)\n",
    "valid_ds = TGSAugDataset(augmenter=test_augment, path=os.path.join(PATH_TO_SALT_CV, \"fold-1/valid\"), \n",
    "                         path_to_depths=PATH_TO_DEPTHS, progress_bar=True)"
   ]
  },
  {
   "cell_type": "code",
   "execution_count": 4,
   "metadata": {},
   "outputs": [],
   "source": [
    "train_dl = DataLoader(train_ds, batch_size=16, num_workers=4)\n",
    "valid_dl = DataLoader(valid_ds, batch_size=16, num_workers=4)"
   ]
  },
  {
   "cell_type": "code",
   "execution_count": 5,
   "metadata": {},
   "outputs": [],
   "source": [
    "class UNetResNet34Wrapped(resnetunet.UNetResNet34):\n",
    "    \n",
    "    def __init__(self, device):\n",
    "        super().__init__()\n",
    "        self.device = device\n",
    "        self.to(device)\n",
    "        \n",
    "    def __call__(self, image, **kwargs):\n",
    "        logits = super().__call__(image)\n",
    "        return {\"logits\": logits[:,0]}\n",
    "\n",
    "\n",
    "class BasicUNetWrapped(basicunet.BasicUNet):\n",
    "    \n",
    "    def __init__(self, device):\n",
    "        super().__init__()\n",
    "        self.device = device\n",
    "        self.to(device)\n",
    "        \n",
    "    def __call__(self, image, **kwargs):\n",
    "        image = image.unsqueeze(1)\n",
    "        logits = super().__call__(image)\n",
    "        return {\"logits\": logits[:,0]}\n",
    "\n",
    "\n",
    "class Loss(torch.nn.Module):\n",
    "    def __init__(self):\n",
    "        super().__init__()\n",
    "        self.loss_fn = FocalRobustLoss(gamma=2.0, alpha=0.05)\n",
    "        #self.loss_fn = lovasz_elu\n",
    "        \n",
    "    def forward(self, logits, mask, **kwargs):\n",
    "        logits = logits[:,27:-27,27:-27].contiguous()\n",
    "        mask = mask[:,27:-27,27:-27].contiguous()\n",
    "        loss = self.loss_fn(logits, mask)\n",
    "        return loss\n",
    "    \n",
    "    \n",
    "def lossWrapped(logits, mask, **kwargs):\n",
    "    logits = logits[:,27:-27,27:-27].contiguous()\n",
    "    mask = mask[:,27:-27,27:-27].contiguous()\n",
    "    loss = lovasz_elu(logits, mask)\n",
    "    return loss.item()\n",
    "    \n",
    "    \n",
    "def sigmoid(logits):\n",
    "    return 1. / (1 + np.exp(-logits))\n",
    "    \n",
    "\n",
    "def meanAPWrapped(logits, mask, treashold, **kwargs):\n",
    "    logits_cpu = logits[:,27:-27,27:-27].cpu().detach().numpy()\n",
    "    mask_cpu = mask[:,27:-27,27:-27].cpu().detach().numpy()\n",
    "    return meanAP2d(sigmoid(logits_cpu), mask_cpu, treashold)\n",
    "\n",
    "\n",
    "def meanIoUWrapped(logits, mask, treashold, **kwargs):\n",
    "    logits_cpu = logits[:,27:-27,27:-27].cpu().detach().numpy()\n",
    "    mask_cpu = mask[:,27:-27,27:-27].cpu().detach().numpy()\n",
    "    return meanIoU2d(sigmoid(logits_cpu), mask_cpu, treashold)\n",
    "\n",
    "###################################################################\n",
    "\n",
    "def meanSoftIoUWrapped(logits, mask, **kwargs):\n",
    "    logits_cpu = logits[:,13:-14,13:-14].cpu().detach().numpy()\n",
    "    mask_cpu = mask[:,13:-14,13:-14].cpu().detach().numpy()\n",
    "    return meanSoftIoU2d(sigmoid(logits_cpu), mask_cpu)\n",
    "\n",
    "\n",
    "def meanAccuracyWrapped(logits, mask, **kwargs):\n",
    "    logits_cpu = logits[:,13:-14,13:-14].cpu().detach().numpy()\n",
    "    mask_cpu = mask[:,13:-14,13:-14].cpu().detach().numpy()\n",
    "    return meanAccuracy2d(sigmoid(logits_cpu), mask_cpu)"
   ]
  },
  {
   "cell_type": "code",
   "execution_count": 6,
   "metadata": {},
   "outputs": [],
   "source": [
    "from torch.nn import functional as F\n",
    "from torch.autograd import Variable\n",
    "\n",
    "\n",
    "def lovasz_hinge(logits, labels, per_image=True, ignore=None):\n",
    "    \"\"\"\n",
    "    Binary Lovasz hinge loss\n",
    "      logits: [B, H, W] Variable, logits at each pixel (between -\\infty and +\\infty)\n",
    "      labels: [B, H, W] Tensor, binary ground truth masks (0 or 1)\n",
    "      per_image: compute the loss per image instead of per batch\n",
    "      ignore: void class id\n",
    "    \"\"\"\n",
    "    if per_image:\n",
    "        loss = mean(lovasz_hinge_flat(*flatten_binary_scores(log.unsqueeze(0), lab.unsqueeze(0), ignore))\n",
    "                          for log, lab in zip(logits, labels))\n",
    "    else:\n",
    "        loss = lovasz_hinge_flat(*flatten_binary_scores(logits, labels, ignore))\n",
    "    return loss\n",
    "\n",
    "\n",
    "def lovasz_elu(logits, labels, per_image=True, ignore=None):\n",
    "    \"\"\"\n",
    "    Binary Lovasz hinge loss\n",
    "      logits: [B, H, W] Variable, logits at each pixel (between -\\infty and +\\infty)\n",
    "      labels: [B, H, W] Tensor, binary ground truth masks (0 or 1)\n",
    "      per_image: compute the loss per image instead of per batch\n",
    "      ignore: void class id\n",
    "    \"\"\"\n",
    "    if per_image:\n",
    "        loss = mean(lovasz_elu_flat(*flatten_binary_scores(log.unsqueeze(0), lab.unsqueeze(0), ignore))\n",
    "                          for log, lab in zip(logits, labels))\n",
    "    else:\n",
    "        loss = lovasz_elu_flat(*flatten_binary_scores(logits, labels, ignore))\n",
    "    return loss\n",
    "\n",
    "\n",
    "def lovasz_sigmoid(logits, labels, per_image=True, ignore=None):\n",
    "    \"\"\"\n",
    "    Binary Lovasz sigmoid loss\n",
    "      logits: [B, H, W] Variable, logits at each pixel (between -\\infty and +\\infty)\n",
    "      labels: [B, H, W] Tensor, binary ground truth masks (0 or 1)\n",
    "      per_image: compute the loss per image instead of per batch\n",
    "      ignore: void class id\n",
    "    \"\"\"\n",
    "    if per_image:\n",
    "        loss = mean(lovasz_sigmoid_flat(*flatten_binary_scores(log.unsqueeze(0), lab.unsqueeze(0), ignore))\n",
    "                          for log, lab in zip(logits, labels))\n",
    "    else:\n",
    "        loss = lovasz_sigmoid_flat(*flatten_binary_scores(logits, labels, ignore))\n",
    "    return loss\n",
    "\n",
    "\n",
    "def lovasz_hinge_flat(logits, labels):\n",
    "    \"\"\"\n",
    "    Binary Lovasz hinge loss\n",
    "      logits: [P] Variable, logits at each prediction (between -\\infty and +\\infty)\n",
    "      labels: [P] Tensor, binary ground truth labels (0 or 1)\n",
    "      ignore: label to ignore\n",
    "    \"\"\"\n",
    "    if len(labels) == 0:\n",
    "        # only void pixels, the gradients should be 0\n",
    "        return logits.sum() * 0.\n",
    "    signs = 2. * labels.float() - 1.\n",
    "    errors = (1. - logits * signs)\n",
    "    errors_sorted, perm = torch.sort(errors, dim=0, descending=True)\n",
    "    perm = perm.data\n",
    "    gt_sorted = labels[perm]    \n",
    "    grad = lovasz_grad(gt_sorted)    \n",
    "    loss = torch.dot(F.relu(errors_sorted), grad)\n",
    "    return loss\n",
    "\n",
    "\n",
    "def lovasz_elu_flat(logits, labels):\n",
    "    \"\"\"\n",
    "    Binary Lovasz hinge loss\n",
    "      logits: [P] Variable, logits at each prediction (between -\\infty and +\\infty)\n",
    "      labels: [P] Tensor, binary ground truth labels (0 or 1)\n",
    "      ignore: label to ignore\n",
    "    \"\"\"\n",
    "    #if len(labels) == 0:\n",
    "        # only void pixels, the gradients should be 0\n",
    "    #    return logits.sum() * 0.\n",
    "    signs = 2. * labels.float() - 1.\n",
    "    errors = (1. - logits * Variable(signs))\n",
    "    errors_sorted, perm = torch.sort(errors, dim=0, descending=True)\n",
    "    perm = perm.data\n",
    "    gt_sorted = labels[perm]    \n",
    "    grad = lovasz_grad(gt_sorted)    \n",
    "    loss = torch.dot(F.elu(errors_sorted) + 1, Variable(grad))\n",
    "    return loss\n",
    "\n",
    "\n",
    "def lovasz_sigmoid_flat(logits, labels):\n",
    "    \"\"\"\n",
    "    Binary Lovasz sigmoid loss\n",
    "      logits: [P] Variable, logits at each prediction (between -\\infty and +\\infty)\n",
    "      labels: [P] Tensor, binary ground truth labels (0 or 1)\n",
    "      ignore: label to ignore\n",
    "    \"\"\"\n",
    "    errors = (labels - F.sigmoid(logits)).abs()\n",
    "    errors_sorted, perm = torch.sort(errors, dim=0, descending=True)\n",
    "    perm = perm.data\n",
    "    gt_sorted = labels[perm]    \n",
    "    grad = lovasz_grad(gt_sorted)    \n",
    "    loss = torch.dot(errors_sorted, Variable(grad))\n",
    "    return loss\n",
    "\n",
    "\n",
    "def flatten_binary_scores(scores, labels, ignore=None):\n",
    "    \"\"\"\n",
    "    Flattens predictions in the batch (binary case)\n",
    "    Remove labels equal to 'ignore'\n",
    "    \"\"\"\n",
    "    scores = scores.view(-1)\n",
    "    labels = labels.view(-1)\n",
    "    if ignore is None:\n",
    "        return scores, labels\n",
    "    valid = (labels != ignore)\n",
    "    vscores = scores[valid]\n",
    "    vlabels = labels[valid]\n",
    "    return vscores, vlabels\n",
    "\n",
    "\n",
    "def lovasz_grad(gt_sorted):\n",
    "    \"\"\"\n",
    "    Computes gradient of the Lovasz extension w.r.t sorted errors\n",
    "    See Alg. 1 in paper\n",
    "    \"\"\"\n",
    "    p = len(gt_sorted)\n",
    "    gts = gt_sorted.sum()\n",
    "    intersection = gts - gt_sorted.float().cumsum(0)\n",
    "    union = gts + (1 - gt_sorted).float().cumsum(0)\n",
    "    jaccard = 1. - intersection / union\n",
    "    if p > 1: # cover 1-pixel case\n",
    "        jaccard[1:p] = jaccard[1:p] - jaccard[0:-1]\n",
    "    return jaccard\n",
    "\n",
    "\n",
    "def mean(l, ignore_nan=False, empty=0):\n",
    "    \"\"\"\n",
    "    nanmean compatible with generators.\n",
    "    \"\"\"\n",
    "    l = iter(l)\n",
    "    if ignore_nan:\n",
    "        l = ifilterfalse(np.isnan, l)\n",
    "    try:\n",
    "        n = 1\n",
    "        acc = next(l)\n",
    "    except StopIteration:\n",
    "        if empty == 'raise':\n",
    "            raise ValueError('Empty mean')\n",
    "        return empty\n",
    "    for n, v in enumerate(l, 2):\n",
    "        acc += v\n",
    "    if n == 1:\n",
    "        return acc\n",
    "    return acc / n"
   ]
  },
  {
   "cell_type": "code",
   "execution_count": 7,
   "metadata": {},
   "outputs": [],
   "source": [
    "device = torch.device(\"cuda\")\n",
    "model = UNetResNet34Wrapped(device)"
   ]
  },
  {
   "cell_type": "code",
   "execution_count": 8,
   "metadata": {},
   "outputs": [],
   "source": [
    "loss_fn = Loss()"
   ]
  },
  {
   "cell_type": "code",
   "execution_count": 9,
   "metadata": {
    "scrolled": true
   },
   "outputs": [
    {
     "data": {
      "text/plain": [
       "3652161"
      ]
     },
     "execution_count": 9,
     "metadata": {},
     "output_type": "execute_result"
    }
   ],
   "source": [
    "sum([p.nelement() for p in model.parameters()]) - sum([p.nelement() for p in model.resnet.parameters()])"
   ]
  },
  {
   "cell_type": "code",
   "execution_count": 10,
   "metadata": {},
   "outputs": [],
   "source": [
    "model.load_pretrain(PATH_TO_RESNET34)"
   ]
  },
  {
   "cell_type": "code",
   "execution_count": 11,
   "metadata": {},
   "outputs": [],
   "source": [
    "#optim = torch.optim.SGD(model.parameters(), momentum=0.9, weight_decay=0.0001, lr=0.005)\n",
    "optim = torch.optim.Adam(model.parameters(), lr=0.001, weight_decay=0.0001)\n",
    "#optim = torch.optim.Adam([\n",
    "#    {\"params\": net.resnet.parameters(), \"lr\": 0.0001},\n",
    "#    {\"params\": net.center.parameters(), \"lr\": 0.001},\n",
    "#    {\"params\": net.decoder1.parameters(), \"lr\": 0.001},\n",
    "#    {\"params\": net.decoder2.parameters(), \"lr\": 0.001},\n",
    "#    {\"params\": net.decoder3.parameters(), \"lr\": 0.001},\n",
    "#    {\"params\": net.decoder4.parameters(), \"lr\": 0.001},\n",
    "#    {\"params\": net.decoder5.parameters(), \"lr\": 0.001},\n",
    "#    {\"params\": net.logit.parameters(), \"lr\": 0.001},\n",
    "#])"
   ]
  },
  {
   "cell_type": "code",
   "execution_count": 12,
   "metadata": {},
   "outputs": [],
   "source": [
    "logger = CSVLogger(\"log.txt\", [\"epoch\", \"train_loss\", \"valid_loss\",\n",
    "                                \"train_mAP_0.4\", \"train_mAP_0.5\", \"train_mAP_0.6\", \"train_mAP_0.7\",\n",
    "                                \"train_mIoU_0.4\", \"train_mIoU_0.5\", \"train_mIoU_0.6\", \"train_mIoU_0.7\",\n",
    "                                \"valid_mAP_0.4\", \"valid_mAP_0.5\", \"valid_mAP_0.6\",  \"valid_mAP_0.7\", \n",
    "                                \"valid_mIoU_0.4\", \"valid_mIoU_0.5\", \"valid_mIoU_0.6\", \"valid_mIoU_0.7\"], \n",
    "                   log_time=True)"
   ]
  },
  {
   "cell_type": "code",
   "execution_count": 13,
   "metadata": {},
   "outputs": [],
   "source": [
    "mAP_cp = BestLastCheckpointer(\"mAP\")\n",
    "#mSoftIoU_cp = BestLastCheckpointer(\"mSoftIoU\")\n",
    "mIoU_cp = BestLastCheckpointer(\"mIoU\")\n",
    "#acc_cp = BestLastCheckpointer(\"Acc\")"
   ]
  },
  {
   "cell_type": "code",
   "execution_count": 14,
   "metadata": {},
   "outputs": [],
   "source": [
    "#mAP_cp = BestLastCheckpointer(\"mAP\")\n",
    "#mAP_cp.load(\"last\", model=model, optim=optim)\n",
    "#None"
   ]
  },
  {
   "cell_type": "code",
   "execution_count": 15,
   "metadata": {},
   "outputs": [],
   "source": [
    "freeze(model.resnet)"
   ]
  },
  {
   "cell_type": "code",
   "execution_count": 20,
   "metadata": {},
   "outputs": [],
   "source": [
    "#logger.resetClock()\n",
    "for epoch in range(20):\n",
    "    print(\"Epoch:\", epoch)\n",
    "    \n",
    "    loss = train_epoch_fn(model, train_dl, optim, loss_fn, verbose=1, loss_file=\"focal_loss.txt\")\n",
    "    \n",
    "    train_metrics = eval_fn(model, train_dl, \n",
    "            {\n",
    "                \"train_loss\": lossWrapped, \n",
    "                \"train_mAP_0.4\": lambda logits, mask, **kwargs: meanAPWrapped(logits, mask, 0.4), \n",
    "                \"train_mAP_0.5\": lambda logits, mask, **kwargs: meanAPWrapped(logits, mask, 0.5), \n",
    "                \"train_mAP_0.6\": lambda logits, mask, **kwargs: meanAPWrapped(logits, mask, 0.6), \n",
    "                \"train_mAP_0.7\": lambda logits, mask, **kwargs: meanAPWrapped(logits, mask, 0.7), \n",
    "                \"train_mIoU_0.4\": lambda logits, mask, **kwargs: meanIoUWrapped(logits, mask, 0.4), \n",
    "                \"train_mIoU_0.5\": lambda logits, mask, **kwargs: meanIoUWrapped(logits, mask, 0.5), \n",
    "                \"train_mIoU_0.6\": lambda logits, mask, **kwargs: meanIoUWrapped(logits, mask, 0.6), \n",
    "                \"train_mIoU_0.7\": lambda logits, mask, **kwargs: meanIoUWrapped(logits, mask, 0.7), \n",
    "            }, \n",
    "            verbose=1)\n",
    "    valid_metrics = eval_fn(model, valid_dl, \n",
    "            {\n",
    "                \"valid_loss\": lossWrapped, \n",
    "                \"valid_mAP_0.4\": lambda logits, mask, **kwargs: meanAPWrapped(logits, mask, 0.4), \n",
    "                \"valid_mAP_0.5\": lambda logits, mask, **kwargs: meanAPWrapped(logits, mask, 0.5), \n",
    "                \"valid_mAP_0.6\": lambda logits, mask, **kwargs: meanAPWrapped(logits, mask, 0.6), \n",
    "                \"valid_mAP_0.7\": lambda logits, mask, **kwargs: meanAPWrapped(logits, mask, 0.7), \n",
    "                \"valid_mIoU_0.4\": lambda logits, mask, **kwargs: meanIoUWrapped(logits, mask, 0.4), \n",
    "                \"valid_mIoU_0.5\": lambda logits, mask, **kwargs: meanIoUWrapped(logits, mask, 0.5), \n",
    "                \"valid_mIoU_0.6\": lambda logits, mask, **kwargs: meanIoUWrapped(logits, mask, 0.6), \n",
    "                \"valid_mIoU_0.7\": lambda logits, mask, **kwargs: meanIoUWrapped(logits, mask, 0.7), \n",
    "            }, \n",
    "                            verbose=1)\n",
    "    \n",
    "    logger.write(epoch=epoch, **train_metrics, **valid_metrics)\n",
    "    \n",
    "    mAP_cp.update(-max(valid_metrics[\"valid_mAP_0.4\"], \n",
    "                       valid_metrics[\"valid_mAP_0.5\"], \n",
    "                       valid_metrics[\"valid_mAP_0.6\"],\n",
    "                       valid_metrics[\"valid_mAP_0.7\"]), \n",
    "                    model=model, optim=optim, epoch=epoch)\n",
    "    mIoU_cp.update(-max(valid_metrics[\"valid_mIoU_0.4\"], \n",
    "                       valid_metrics[\"valid_mIoU_0.5\"], \n",
    "                       valid_metrics[\"valid_mIoU_0.6\"],\n",
    "                       valid_metrics[\"valid_mIoU_0.7\"]),\n",
    "                    model=model, optim=optim, epoch=epoch)\n",
    "    \n",
    "    clear_output()"
   ]
  },
  {
   "cell_type": "code",
   "execution_count": 17,
   "metadata": {},
   "outputs": [],
   "source": [
    "unfreeze(model)"
   ]
  },
  {
   "cell_type": "code",
   "execution_count": 19,
   "metadata": {},
   "outputs": [],
   "source": [
    "set_learning_rate(optim, 0.0001)"
   ]
  },
  {
   "cell_type": "code",
   "execution_count": null,
   "metadata": {},
   "outputs": [],
   "source": []
  },
  {
   "cell_type": "code",
   "execution_count": 16,
   "metadata": {},
   "outputs": [],
   "source": [
    "freeze(model, include=(torch.nn.BatchNorm2d,))"
   ]
  },
  {
   "cell_type": "code",
   "execution_count": 18,
   "metadata": {},
   "outputs": [
    {
     "data": {
      "text/plain": [
       "[0.001]"
      ]
     },
     "execution_count": 18,
     "metadata": {},
     "output_type": "execute_result"
    }
   ],
   "source": [
    "get_learning_rate(optim)"
   ]
  },
  {
   "cell_type": "code",
   "execution_count": null,
   "metadata": {},
   "outputs": [],
   "source": [
    "# 15: decoder only, Adam, lr = 0.0001\n",
    "# 35: Adam, lr = 0.0001\n",
    "# 10: Adam, lr = 0.00001\n",
    "# 10: freeze BN, Adam, lr = 0.00001\n",
    "# 10: wo color aug, Adam, lr = 0.00001\n",
    "# 20: wo dropout, Adam, lr = 0.00001"
   ]
  },
  {
   "cell_type": "code",
   "execution_count": 51,
   "metadata": {},
   "outputs": [],
   "source": [
    "mAP_cp.load(\"best\", model=model)\n",
    "None"
   ]
  },
  {
   "cell_type": "code",
   "execution_count": 16,
   "metadata": {},
   "outputs": [
    {
     "data": {
      "application/vnd.jupyter.widget-view+json": {
       "model_id": "056090ae39b7433ea3c042d5ccdd180e",
       "version_major": 2,
       "version_minor": 0
      },
      "text/plain": [
       "HBox(children=(IntProgress(value=0, max=7), HTML(value='')))"
      ]
     },
     "metadata": {},
     "output_type": "display_data"
    },
    {
     "name": "stderr",
     "output_type": "stream",
     "text": [
      "/usr/local/lib/python3.5/dist-packages/torch/nn/functional.py:1890: UserWarning: nn.functional.upsample is deprecated. Use nn.functional.interpolate instead.\n",
      "  warnings.warn(\"nn.functional.upsample is deprecated. Use nn.functional.interpolate instead.\")\n"
     ]
    },
    {
     "name": "stdout",
     "output_type": "stream",
     "text": [
      "\n"
     ]
    }
   ],
   "source": [
    "predict_and_save(model, valid_dl, [\"proba\"], \"id\", \"valid\", verbose=1)"
   ]
  },
  {
   "cell_type": "code",
   "execution_count": 120,
   "metadata": {},
   "outputs": [
    {
     "data": {
      "application/vnd.jupyter.widget-view+json": {
       "model_id": "58365816084c465a88ca99ae8b9ba6b3",
       "version_major": 2,
       "version_minor": 0
      },
      "text/plain": [
       "HBox(children=(IntProgress(value=0, max=784), HTML(value='')))"
      ]
     },
     "metadata": {},
     "output_type": "display_data"
    },
    {
     "name": "stdout",
     "output_type": "stream",
     "text": [
      "\n"
     ]
    }
   ],
   "source": [
    "probs, ids = load_pred_probs(\"valid/proba\", verbose=1)"
   ]
  },
  {
   "cell_type": "code",
   "execution_count": 44,
   "metadata": {},
   "outputs": [],
   "source": [
    "def load_masks(path, ids=None):\n",
    "    if ids is None:\n",
    "        ids = [name.split(\".\")[0] for name in os.listdir(path)]\n",
    "    masks = [read_mask(os.path.join(path, id_ + \".png\")) for id_ in ids]\n",
    "    return np.stack(masks)\n",
    "\n",
    "def load_images(path, ids=None):\n",
    "    if ids is None:\n",
    "        ids = [name.split(\".\")[0] for name in os.listdir(path)]\n",
    "    images = [read_image(os.path.join(path, id_ + \".png\")) for id_ in ids]\n",
    "    return np.stack(images)\n",
    "\n",
    "def sigmoid(x):\n",
    "    return 1. / (1. + np.exp(-x))"
   ]
  },
  {
   "cell_type": "code",
   "execution_count": 121,
   "metadata": {},
   "outputs": [],
   "source": [
    "masks = load_masks(os.path.join(PATH_TO_SALT_CV, \"fold-1/valid/masks\"), ids)"
   ]
  },
  {
   "cell_type": "code",
   "execution_count": 49,
   "metadata": {},
   "outputs": [],
   "source": [
    "images = load_images(os.path.join(PATH_TO_SALT_CV, \"fold-1/valid/images\"), ids)"
   ]
  },
  {
   "cell_type": "code",
   "execution_count": 108,
   "metadata": {},
   "outputs": [
    {
     "data": {
      "text/plain": [
       "<matplotlib.image.AxesImage at 0x7f18f4a77978>"
      ]
     },
     "execution_count": 108,
     "metadata": {},
     "output_type": "execute_result"
    },
    {
     "data": {
      "image/png": "[encoded data removed]",
      "text/plain": [
       "<Figure size 1080x288 with 3 Axes>"
      ]
     },
     "metadata": {
      "needs_background": "light"
     },
     "output_type": "display_data"
    }
   ],
   "source": [
    "id_ = 550\n",
    "\n",
    "plt.figure(figsize=[15, 4])\n",
    "plt.subplot(1, 3, 1)\n",
    "plt.imshow(masks[id_])\n",
    "plt.subplot(1, 3, 2)\n",
    "m = sigmoid(probs[id_])\n",
    "m[0,0] = 1\n",
    "plt.imshow(m)\n",
    "plt.subplot(1, 3, 3)\n",
    "plt.imshow(images[id_])"
   ]
  },
  {
   "cell_type": "code",
   "execution_count": 89,
   "metadata": {},
   "outputs": [],
   "source": [
    "idx = np.argsort(masks.sum(axis=(1, 2)))"
   ]
  },
  {
   "cell_type": "code",
   "execution_count": 102,
   "metadata": {},
   "outputs": [
    {
     "data": {
      "text/plain": [
       "array([703, 207, 200, 545, 460, 724, 688,  75, 550,   2])"
      ]
     },
     "execution_count": 102,
     "metadata": {},
     "output_type": "execute_result"
    }
   ],
   "source": [
    "idx[350:360]"
   ]
  },
  {
   "cell_type": "code",
   "execution_count": 122,
   "metadata": {},
   "outputs": [],
   "source": [
    "p = [do_resize2(m,m,101,101)[1] for m in probs]\n",
    "p = np.stack(p)"
   ]
  },
  {
   "cell_type": "code",
   "execution_count": 123,
   "metadata": {},
   "outputs": [
    {
     "data": {
      "application/vnd.jupyter.widget-view+json": {
       "model_id": "4c53b16ec52d4c3fa8452510bb5111db",
       "version_major": 2,
       "version_minor": 0
      },
      "text/plain": [
       "HBox(children=(IntProgress(value=0), HTML(value='')))"
      ]
     },
     "metadata": {},
     "output_type": "display_data"
    },
    {
     "name": "stdout",
     "output_type": "stream",
     "text": [
      "\n"
     ]
    }
   ],
   "source": [
    "scores = []\n",
    "for t in tqdm_notebook(np.linspace(0, 1, 100)):\n",
    "    scores.append(meanAP2d(p > t, masks))"
   ]
  },
  {
   "cell_type": "code",
   "execution_count": 124,
   "metadata": {},
   "outputs": [
    {
     "data": {
      "text/plain": [
       "[<matplotlib.lines.Line2D at 0x7f18f4911eb8>]"
      ]
     },
     "execution_count": 124,
     "metadata": {},
     "output_type": "execute_result"
    },
    {
     "data": {
      "image/png": "[encoded data removed]",
      "text/plain": [
       "<Figure size 432x288 with 1 Axes>"
      ]
     },
     "metadata": {
      "needs_background": "light"
     },
     "output_type": "display_data"
    }
   ],
   "source": [
    "plt.plot(np.linspace(0, 1, 100), scores)"
   ]
  },
  {
   "cell_type": "code",
   "execution_count": 126,
   "metadata": {},
   "outputs": [
    {
     "data": {
      "application/vnd.jupyter.widget-view+json": {
       "model_id": "9eef6fb9f49b4f9abeaf09a6b7213bca",
       "version_major": 2,
       "version_minor": 0
      },
      "text/plain": [
       "HBox(children=(IntProgress(value=0, max=7), HTML(value='')))"
      ]
     },
     "metadata": {},
     "output_type": "display_data"
    },
    {
     "name": "stderr",
     "output_type": "stream",
     "text": [
      "/usr/local/lib/python3.5/dist-packages/torch/nn/functional.py:1890: UserWarning: nn.functional.upsample is deprecated. Use nn.functional.interpolate instead.\n",
      "  warnings.warn(\"nn.functional.upsample is deprecated. Use nn.functional.interpolate instead.\")\n"
     ]
    },
    {
     "name": "stdout",
     "output_type": "stream",
     "text": [
      "\n"
     ]
    }
   ],
   "source": [
    "valid_metrics = eval_fn(model, valid_dl, \n",
    "            {\"valid_mAP\": meanAPWrapped, \"valid_mIoU\": meanIoUWrapped, \n",
    "             \"valid_mSoftIoU\": meanSoftIoUWrapped, \"valid_mAcc\": meanAccuracyWrapped}, \n",
    "                            verbose=1)"
   ]
  },
  {
   "cell_type": "code",
   "execution_count": 127,
   "metadata": {},
   "outputs": [
    {
     "data": {
      "text/plain": [
       "{'valid_mAP': 0.7142857142857144,\n",
       " 'valid_mAcc': 0.9467750082210619,\n",
       " 'valid_mIoU': 0.7593747121947152,\n",
       " 'valid_mSoftIoU': 0.3854562944295455}"
      ]
     },
     "execution_count": 127,
     "metadata": {},
     "output_type": "execute_result"
    }
   ],
   "source": [
    "valid_metrics"
   ]
  },
  {
   "cell_type": "code",
   "execution_count": 17,
   "metadata": {},
   "outputs": [],
   "source": [
    "f = lambda x, **kw: 2*x"
   ]
  },
  {
   "cell_type": "code",
   "execution_count": 20,
   "metadata": {},
   "outputs": [
    {
     "data": {
      "text/plain": [
       "4"
      ]
     },
     "execution_count": 20,
     "metadata": {},
     "output_type": "execute_result"
    }
   ],
   "source": [
    "f(2, d=1)"
   ]
  },
  {
   "cell_type": "code",
   "execution_count": 29,
   "metadata": {},
   "outputs": [],
   "source": [
    "torch.cuda.empty_cache()"
   ]
  },
  {
   "cell_type": "code",
   "execution_count": 32,
   "metadata": {},
   "outputs": [],
   "source": [
    "save_checkpoint(\"last.pth\", model=model, optim=optim)"
   ]
  },
  {
   "cell_type": "code",
   "execution_count": 17,
   "metadata": {},
   "outputs": [
    {
     "data": {
      "application/vnd.jupyter.widget-view+json": {
       "model_id": "e80e1987496d4288a1c24e11ba5f2925",
       "version_major": 2,
       "version_minor": 0
      },
      "text/plain": [
       "HBox(children=(IntProgress(value=0, max=18000), HTML(value='')))"
      ]
     },
     "metadata": {},
     "output_type": "display_data"
    },
    {
     "name": "stdout",
     "output_type": "stream",
     "text": [
      "\n"
     ]
    }
   ],
   "source": [
    "test_ds = TGSAugDataset(augmenter=test_augment, path=PATH_TO_TEST, \n",
    "                        path_to_depths=PATH_TO_DEPTHS, progress_bar=True)"
   ]
  },
  {
   "cell_type": "code",
   "execution_count": 18,
   "metadata": {},
   "outputs": [],
   "source": [
    "test_dl = DataLoader(test_ds, batch_size=16, num_workers=4)"
   ]
  },
  {
   "cell_type": "code",
   "execution_count": 52,
   "metadata": {},
   "outputs": [
    {
     "data": {
      "application/vnd.jupyter.widget-view+json": {
       "model_id": "53a5ad11f3a843f2851a86b60bd6705c",
       "version_major": 2,
       "version_minor": 0
      },
      "text/plain": [
       "HBox(children=(IntProgress(value=0, max=2250), HTML(value='')))"
      ]
     },
     "metadata": {},
     "output_type": "display_data"
    },
    {
     "name": "stderr",
     "output_type": "stream",
     "text": [
      "/usr/local/lib/python3.5/dist-packages/torch/nn/functional.py:1890: UserWarning: nn.functional.upsample is deprecated. Use nn.functional.interpolate instead.\n",
      "  warnings.warn(\"nn.functional.upsample is deprecated. Use nn.functional.interpolate instead.\")\n"
     ]
    },
    {
     "name": "stdout",
     "output_type": "stream",
     "text": [
      "\n"
     ]
    }
   ],
   "source": [
    "predict_and_save(model, test_dl, [\"logits\"], \"id\", \"test2\", verbose=1)"
   ]
  },
  {
   "cell_type": "code",
   "execution_count": 53,
   "metadata": {},
   "outputs": [
    {
     "data": {
      "application/vnd.jupyter.widget-view+json": {
       "model_id": "89b9ac7dacba4745b63e1f01d80411ad",
       "version_major": 2,
       "version_minor": 0
      },
      "text/plain": [
       "HBox(children=(IntProgress(value=0, max=18000), HTML(value='')))"
      ]
     },
     "metadata": {},
     "output_type": "display_data"
    },
    {
     "name": "stdout",
     "output_type": "stream",
     "text": [
      "\n"
     ]
    }
   ],
   "source": [
    "logits, ids = load_pred_probs(\"test2/logits/\", verbose=1)"
   ]
  },
  {
   "cell_type": "code",
   "execution_count": 54,
   "metadata": {},
   "outputs": [],
   "source": [
    "preds = (logits > 0).astype(int)"
   ]
  },
  {
   "cell_type": "code",
   "execution_count": 55,
   "metadata": {},
   "outputs": [],
   "source": [
    "preds = preds[:,13:-14,13:-14]"
   ]
  },
  {
   "cell_type": "code",
   "execution_count": 56,
   "metadata": {},
   "outputs": [
    {
     "data": {
      "text/plain": [
       "0.0026666666666666666"
      ]
     },
     "execution_count": 56,
     "metadata": {},
     "output_type": "execute_result"
    }
   ],
   "source": [
    "((preds.sum(axis=(1, 2)) > 0) & (preds.sum(axis=(1, 2)) < 10)).mean()"
   ]
  },
  {
   "cell_type": "code",
   "execution_count": 57,
   "metadata": {},
   "outputs": [
    {
     "data": {
      "text/plain": [
       "<matplotlib.image.AxesImage at 0x7f2d344daf28>"
      ]
     },
     "execution_count": 57,
     "metadata": {},
     "output_type": "execute_result"
    },
    {
     "data": {
      "image/png": "[encoded data removed]",
      "text/plain": [
       "<Figure size 432x288 with 1 Axes>"
      ]
     },
     "metadata": {
      "needs_background": "light"
     },
     "output_type": "display_data"
    }
   ],
   "source": [
    "plt.imshow(preds[10])"
   ]
  },
  {
   "cell_type": "code",
   "execution_count": 58,
   "metadata": {},
   "outputs": [
    {
     "data": {
      "application/vnd.jupyter.widget-view+json": {
       "model_id": "86b3efd59fc04baf9c0b3055b7283584",
       "version_major": 2,
       "version_minor": 0
      },
      "text/plain": [
       "HBox(children=(IntProgress(value=0, max=18000), HTML(value='')))"
      ]
     },
     "metadata": {},
     "output_type": "display_data"
    },
    {
     "name": "stdout",
     "output_type": "stream",
     "text": [
      "\n"
     ]
    }
   ],
   "source": [
    "preds = force_zero_empty(os.path.join(PATH_TO_TEST, \"images\"), ids, preds, verbose=1)"
   ]
  },
  {
   "cell_type": "code",
   "execution_count": 59,
   "metadata": {},
   "outputs": [],
   "source": [
    "prepare_submit(preds, ids, \"smbt34.csv\")"
   ]
  },
  {
   "cell_type": "code",
   "execution_count": 60,
   "metadata": {},
   "outputs": [
    {
     "name": "stdout",
     "output_type": "stream",
     "text": [
      "Successfully submitted to TGS Salt Identification Challenge"
     ]
    }
   ],
   "source": [
    "!kaggle competitions submit -c tgs-salt-identification-challenge -f smbt34.csv -m \"ResNet34 Lovasz best cp\""
   ]
  },
  {
   "cell_type": "code",
   "execution_count": null,
   "metadata": {},
   "outputs": [],
   "source": []
  }
 ],
 "metadata": {
  "kernelspec": {
   "display_name": "Python 3",
   "language": "python",
   "name": "python3"
  },
  "language_info": {
   "codemirror_mode": {
    "name": "ipython",
    "version": 3
   },
   "file_extension": ".py",
   "mimetype": "text/x-python",
   "name": "python",
   "nbconvert_exporter": "python",
   "pygments_lexer": "ipython3",
   "version": "3.5.2"
  }
 },
 "nbformat": 4,
 "nbformat_minor": 2
}
