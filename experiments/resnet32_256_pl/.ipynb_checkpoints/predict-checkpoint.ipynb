{
 "cells": [
  {
   "cell_type": "code",
   "execution_count": 2,
   "metadata": {},
   "outputs": [],
   "source": [
    "import numpy as np\n",
    "import torch\n",
    "import cv2\n",
    "import matplotlib.pyplot as plt\n",
    "import os\n",
    "import multiprocessing as mp\n",
    "import seaborn as sns\n",
    "\n",
    "from code.models import basicunet, resnetunet\n",
    "from code.datasets import TGSTTADataset\n",
    "from code.configs import *\n",
    "from code.train import *\n",
    "from code.losses import FocalRobustLoss\n",
    "from code.metrics import *\n",
    "from code.augmentations import *\n",
    "from code.utils import *\n",
    "from torch.utils.data import DataLoader\n",
    "from IPython.display import clear_output\n",
    "from code.inference import *\n",
    "\n",
    "np.warnings.filterwarnings(\"ignore\")\n",
    "\n",
    "%matplotlib inline"
   ]
  },
  {
   "cell_type": "code",
   "execution_count": 2,
   "metadata": {},
   "outputs": [],
   "source": [
    "def test_postproc(image, mask):\n",
    "    image, mask = do_resize2(image, mask, 202, 202)\n",
    "    image, mask = do_center_pad_to_factor2(image, mask, factor=64)\n",
    "    return image, mask"
   ]
  },
  {
   "cell_type": "code",
   "execution_count": 3,
   "metadata": {},
   "outputs": [],
   "source": [
    "class UNetResNet34Wrapped(resnetunet.UNetResNet34):\n",
    "    \n",
    "    def __init__(self, device):\n",
    "        super().__init__()\n",
    "        self.device = device\n",
    "        self.to(device)\n",
    "        \n",
    "    def __call__(self, image, **kwargs):\n",
    "        logits = super().__call__(image)\n",
    "        return {\"logits\": logits[:,0]}"
   ]
  },
  {
   "cell_type": "code",
   "execution_count": 4,
   "metadata": {},
   "outputs": [],
   "source": [
    "test_ds = TGSTTADataset(postproc=test_postproc, paths=[PATH_TO_TEST], \n",
    "                        path_to_depths=PATH_TO_DEPTHS, progress_bar=True)\n",
    "test_dl = DataLoader(test_ds, batch_size=16, num_workers=2)"
   ]
  },
  {
   "cell_type": "code",
   "execution_count": 5,
   "metadata": {},
   "outputs": [],
   "source": [
    "device = torch.device(\"cuda\")\n",
    "model = UNetResNet34Wrapped(device)\n",
    "mAP_cp = BestLastCheckpointer(\"mAP1\")\n",
    "mAP_cp.load(\"best\", model=model)\n",
    "predict_and_save(model, test_dl, [\"logits\"], \"id\", \"test1\", verbose=1)"
   ]
  },
  {
   "cell_type": "code",
   "execution_count": 6,
   "metadata": {},
   "outputs": [],
   "source": [
    "device = torch.device(\"cuda\")\n",
    "model = UNetResNet34Wrapped(device)\n",
    "mAP_cp = BestLastCheckpointer(\"mAP2\")\n",
    "mAP_cp.load(\"best\", model=model)\n",
    "predict_and_save(model, test_dl, [\"logits\"], \"id\", \"test2\", verbose=1)"
   ]
  },
  {
   "cell_type": "code",
   "execution_count": 7,
   "metadata": {},
   "outputs": [],
   "source": [
    "device = torch.device(\"cuda\")\n",
    "model = UNetResNet34Wrapped(device)\n",
    "mAP_cp = BestLastCheckpointer(\"mAP3\")\n",
    "mAP_cp.load(\"best\", model=model)\n",
    "predict_and_save(model, test_dl, [\"logits\"], \"id\", \"test3\", verbose=1)"
   ]
  },
  {
   "cell_type": "code",
   "execution_count": 8,
   "metadata": {},
   "outputs": [],
   "source": [
    "device = torch.device(\"cuda\")\n",
    "model = UNetResNet34Wrapped(device)\n",
    "mAP_cp = BestLastCheckpointer(\"mAP4\")\n",
    "mAP_cp.load(\"best\", model=model)\n",
    "predict_and_save(model, test_dl, [\"logits\"], \"id\", \"test4\", verbose=1)"
   ]
  },
  {
   "cell_type": "code",
   "execution_count": 9,
   "metadata": {},
   "outputs": [],
   "source": [
    "device = torch.device(\"cuda\")\n",
    "model = UNetResNet34Wrapped(device)\n",
    "mAP_cp = BestLastCheckpointer(\"mAP5\")\n",
    "mAP_cp.load(\"best\", model=model)\n",
    "predict_and_save(model, test_dl, [\"logits\"], \"id\", \"test5\", verbose=1)"
   ]
  },
  {
   "cell_type": "code",
   "execution_count": 10,
   "metadata": {},
   "outputs": [
    {
     "data": {
      "application/vnd.jupyter.widget-view+json": {
       "model_id": "efa643eee6ce46fb8e98f95552e35d1f",
       "version_major": 2,
       "version_minor": 0
      },
      "text/plain": [
       "HBox(children=(IntProgress(value=0, max=10), HTML(value='')))"
      ]
     },
     "metadata": {},
     "output_type": "display_data"
    },
    {
     "name": "stdout",
     "output_type": "stream",
     "text": [
      "\n"
     ]
    }
   ],
   "source": [
    "dirs = [\"test1/logits/\", \"test2/logits/\", \"test3/logits/\", \"test4/logits/\", \"test5/logits/\"]\n",
    "logits, ids = [], []\n",
    "\n",
    "for name in os.listdir(dirs[0]):\n",
    "    name = name.split(\".\")[0]\n",
    "    id_ = name.split(\"_\")[0]\n",
    "    ids.append(id_)\n",
    "    \n",
    "ids = list(set(ids))\n",
    "    \n",
    "for id_ in tqdm_notebook(ids):\n",
    "    logit_list = []\n",
    "    for dirname in dirs:\n",
    "        suffix = \"\"\n",
    "        name = id_ + suffix + \".npy\"\n",
    "        path = os.path.join(dirname, name)\n",
    "        logit = np.load(path)\n",
    "        logit_list.append(logit)\n",
    "        \n",
    "        suffix = \"_flipped\"\n",
    "        name = id_ + suffix + \".npy\"\n",
    "        path = os.path.join(dirname, name)\n",
    "        logit = np.load(path)\n",
    "        logit = logit[:,::-1]\n",
    "        logit_list.append(logit)\n",
    "        \n",
    "    logit = np.mean(np.array(logit_list), axis=0)\n",
    "    logit = logit[27:-27,27:-27]\n",
    "    logit = cv2.resize(logit, dsize=(101, 101))\n",
    "    logits.append(logit)\n",
    "logits = np.array(logits)"
   ]
  },
  {
   "cell_type": "code",
   "execution_count": 11,
   "metadata": {},
   "outputs": [],
   "source": [
    "import pickle\n",
    "np.save(\"logits\", logits)\n",
    "with open(\"ids.pkl\", \"wb\") as f:\n",
    "    pickle.dump(ids, f)"
   ]
  },
  {
   "cell_type": "code",
   "execution_count": 12,
   "metadata": {},
   "outputs": [
    {
     "data": {
      "text/plain": [
       "((10, 101, 101), 18000)"
      ]
     },
     "execution_count": 12,
     "metadata": {},
     "output_type": "execute_result"
    }
   ],
   "source": [
    "logits.shape, len(ids)"
   ]
  },
  {
   "cell_type": "code",
   "execution_count": 13,
   "metadata": {},
   "outputs": [],
   "source": [
    "preds = (logits > 0).astype(int)"
   ]
  },
  {
   "cell_type": "code",
   "execution_count": 14,
   "metadata": {},
   "outputs": [],
   "source": [
    "preds = force_zero_empty(os.path.join(PATH_TO_TEST, \"images\"), ids, preds, verbose=1)"
   ]
  },
  {
   "cell_type": "code",
   "execution_count": 15,
   "metadata": {},
   "outputs": [],
   "source": [
    "prepare_submit(preds, ids, \"smbt41.csv\")"
   ]
  },
  {
   "cell_type": "code",
   "execution_count": 16,
   "metadata": {},
   "outputs": [],
   "source": [
    "!kaggle competitions submit -c tgs-salt-identification-challenge -f smbt41.csv -m \"ResNet34 Lovasz 5 fold flip tta pl\""
   ]
  },
  {
   "cell_type": "code",
   "execution_count": 17,
   "metadata": {},
   "outputs": [],
   "source": [
    "sum = preds.sum(axis=(1, 2))"
   ]
  },
  {
   "cell_type": "code",
   "execution_count": 18,
   "metadata": {},
   "outputs": [],
   "source": [
    "preds2 = preds\n",
    "preds2[sum < 10] = 0\n",
    "prepare_submit(preds2, ids, \"smbt42.csv\")"
   ]
  },
  {
   "cell_type": "code",
   "execution_count": 19,
   "metadata": {},
   "outputs": [],
   "source": [
    "!kaggle competitions submit -c tgs-salt-identification-challenge -f smbt42.csv -m \"ResNet34 Lovasz 5 fold flip tta pl; less 10 to zero;\""
   ]
  },
  {
   "cell_type": "code",
   "execution_count": null,
   "metadata": {},
   "outputs": [],
   "source": []
  }
 ],
 "metadata": {
  "kernelspec": {
   "display_name": "Python 3",
   "language": "python",
   "name": "python3"
  },
  "language_info": {
   "codemirror_mode": {
    "name": "ipython",
    "version": 3
   },
   "file_extension": ".py",
   "mimetype": "text/x-python",
   "name": "python",
   "nbconvert_exporter": "python",
   "pygments_lexer": "ipython3",
   "version": "3.5.2"
  }
 },
 "nbformat": 4,
 "nbformat_minor": 2
}
