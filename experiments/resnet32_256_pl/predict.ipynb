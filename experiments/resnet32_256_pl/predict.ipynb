{
 "cells": [
  {
   "cell_type": "code",
   "execution_count": 1,
   "metadata": {},
   "outputs": [],
   "source": [
    "import numpy as np\n",
    "import torch\n",
    "import cv2\n",
    "import matplotlib.pyplot as plt\n",
    "import os\n",
    "import multiprocessing as mp\n",
    "import seaborn as sns\n",
    "\n",
    "from code.models import basicunet, resnetunet\n",
    "from code.datasets import TGSTTADataset\n",
    "from code.configs import *\n",
    "from code.train import *\n",
    "from code.losses import FocalRobustLoss\n",
    "from code.metrics import *\n",
    "from code.augmentations import *\n",
    "from code.utils import *\n",
    "from torch.utils.data import DataLoader\n",
    "from IPython.display import clear_output\n",
    "from code.inference import *\n",
    "\n",
    "np.warnings.filterwarnings(\"ignore\")\n",
    "\n",
    "%matplotlib inline"
   ]
  },
  {
   "cell_type": "code",
   "execution_count": 2,
   "metadata": {},
   "outputs": [],
   "source": [
    "def test_postproc(image, mask):\n",
    "    image, mask = do_resize2(image, mask, 202, 202)\n",
    "    image, mask = do_center_pad_to_factor2(image, mask, factor=64)\n",
    "    return image, mask"
   ]
  },
  {
   "cell_type": "code",
   "execution_count": 3,
   "metadata": {},
   "outputs": [],
   "source": [
    "class UNetResNet34Wrapped(resnetunet.UNetResNet34):\n",
    "    \n",
    "    def __init__(self, device):\n",
    "        super().__init__()\n",
    "        self.device = device\n",
    "        self.to(device)\n",
    "        \n",
    "    def __call__(self, image, **kwargs):\n",
    "        logits = super().__call__(image)\n",
    "        return {\"logits\": logits[:,0]}"
   ]
  },
  {
   "cell_type": "code",
   "execution_count": 4,
   "metadata": {},
   "outputs": [
    {
     "data": {
      "application/vnd.jupyter.widget-view+json": {
       "model_id": "4e782d87513c4f5a9bae14e060c55b3b",
       "version_major": 2,
       "version_minor": 0
      },
      "text/plain": [
       "HBox(children=(IntProgress(value=0, max=18000), HTML(value='')))"
      ]
     },
     "metadata": {},
     "output_type": "display_data"
    },
    {
     "name": "stdout",
     "output_type": "stream",
     "text": [
      "\n"
     ]
    }
   ],
   "source": [
    "test_ds = TGSTTADataset(postproc=test_postproc, paths=[PATH_TO_TEST], \n",
    "                        path_to_depths=PATH_TO_DEPTHS, progress_bar=True)\n",
    "test_dl = DataLoader(test_ds, batch_size=16, num_workers=2)"
   ]
  },
  {
   "cell_type": "code",
   "execution_count": 5,
   "metadata": {},
   "outputs": [
    {
     "data": {
      "application/vnd.jupyter.widget-view+json": {
       "model_id": "aa755ce45f9c42758abd4df7dadad672",
       "version_major": 2,
       "version_minor": 0
      },
      "text/plain": [
       "HBox(children=(IntProgress(value=0, max=2250), HTML(value='')))"
      ]
     },
     "metadata": {},
     "output_type": "display_data"
    },
    {
     "name": "stdout",
     "output_type": "stream",
     "text": [
      "\n"
     ]
    }
   ],
   "source": [
    "device = torch.device(\"cuda\")\n",
    "model = UNetResNet34Wrapped(device)\n",
    "mAP_cp = BestLastCheckpointer(\"mAP1\")\n",
    "mAP_cp.load(\"best\", model=model)\n",
    "predict_and_save(model, test_dl, [\"logits\"], \"id\", \"test1\", verbose=1)"
   ]
  },
  {
   "cell_type": "code",
   "execution_count": 6,
   "metadata": {},
   "outputs": [
    {
     "data": {
      "application/vnd.jupyter.widget-view+json": {
       "model_id": "48cfec155937449bb194ae86d69bdc3c",
       "version_major": 2,
       "version_minor": 0
      },
      "text/plain": [
       "HBox(children=(IntProgress(value=0, max=2250), HTML(value='')))"
      ]
     },
     "metadata": {},
     "output_type": "display_data"
    },
    {
     "name": "stdout",
     "output_type": "stream",
     "text": [
      "\n"
     ]
    }
   ],
   "source": [
    "device = torch.device(\"cuda\")\n",
    "model = UNetResNet34Wrapped(device)\n",
    "mAP_cp = BestLastCheckpointer(\"mAP2\")\n",
    "mAP_cp.load(\"best\", model=model)\n",
    "predict_and_save(model, test_dl, [\"logits\"], \"id\", \"test2\", verbose=1)"
   ]
  },
  {
   "cell_type": "code",
   "execution_count": 7,
   "metadata": {},
   "outputs": [
    {
     "data": {
      "application/vnd.jupyter.widget-view+json": {
       "model_id": "1ed0eb32e7d34082b7e33cc68c3c79a9",
       "version_major": 2,
       "version_minor": 0
      },
      "text/plain": [
       "HBox(children=(IntProgress(value=0, max=2250), HTML(value='')))"
      ]
     },
     "metadata": {},
     "output_type": "display_data"
    },
    {
     "name": "stdout",
     "output_type": "stream",
     "text": [
      "\n"
     ]
    }
   ],
   "source": [
    "device = torch.device(\"cuda\")\n",
    "model = UNetResNet34Wrapped(device)\n",
    "mAP_cp = BestLastCheckpointer(\"mAP3\")\n",
    "mAP_cp.load(\"best\", model=model)\n",
    "predict_and_save(model, test_dl, [\"logits\"], \"id\", \"test3\", verbose=1)"
   ]
  },
  {
   "cell_type": "code",
   "execution_count": 9,
   "metadata": {},
   "outputs": [
    {
     "data": {
      "application/vnd.jupyter.widget-view+json": {
       "model_id": "478382325e9748d687778d2927d5c32b",
       "version_major": 2,
       "version_minor": 0
      },
      "text/plain": [
       "HBox(children=(IntProgress(value=0, max=2250), HTML(value='')))"
      ]
     },
     "metadata": {},
     "output_type": "display_data"
    }
   ],
   "source": [
    "device = torch.device(\"cuda\")\n",
    "model = UNetResNet34Wrapped(device)\n",
    "mAP_cp = BestLastCheckpointer(\"mAP4\")\n",
    "mAP_cp.load(\"best\", model=model)\n",
    "predict_and_save(model, test_dl, [\"logits\"], \"id\", \"test4\", verbose=1)"
   ]
  },
  {
   "cell_type": "code",
   "execution_count": 10,
   "metadata": {},
   "outputs": [
    {
     "data": {
      "application/vnd.jupyter.widget-view+json": {
       "model_id": "f34f2430a55f4586934692f0796ca528",
       "version_major": 2,
       "version_minor": 0
      },
      "text/plain": [
       "HBox(children=(IntProgress(value=0, max=2250), HTML(value='')))"
      ]
     },
     "metadata": {},
     "output_type": "display_data"
    }
   ],
   "source": [
    "device = torch.device(\"cuda\")\n",
    "model = UNetResNet34Wrapped(device)\n",
    "mAP_cp = BestLastCheckpointer(\"mAP5\")\n",
    "mAP_cp.load(\"best\", model=model)\n",
    "predict_and_save(model, test_dl, [\"logits\"], \"id\", \"test5\", verbose=1)"
   ]
  },
  {
   "cell_type": "code",
   "execution_count": 11,
   "metadata": {},
   "outputs": [
    {
     "data": {
      "application/vnd.jupyter.widget-view+json": {
       "model_id": "d4fa9d38471345159d754084a1c0b25d",
       "version_major": 2,
       "version_minor": 0
      },
      "text/plain": [
       "HBox(children=(IntProgress(value=0, max=18000), HTML(value='')))"
      ]
     },
     "metadata": {},
     "output_type": "display_data"
    },
    {
     "name": "stderr",
     "output_type": "stream",
     "text": [
      "IOPub message rate exceeded.\n",
      "The notebook server will temporarily stop sending output\n",
      "to the client in order to avoid crashing it.\n",
      "To change this limit, set the config variable\n",
      "`--NotebookApp.iopub_msg_rate_limit`.\n",
      "\n",
      "Current values:\n",
      "NotebookApp.iopub_msg_rate_limit=1000.0 (msgs/sec)\n",
      "NotebookApp.rate_limit_window=3.0 (secs)\n",
      "\n",
      "IOPub message rate exceeded.\n",
      "The notebook server will temporarily stop sending output\n",
      "to the client in order to avoid crashing it.\n",
      "To change this limit, set the config variable\n",
      "`--NotebookApp.iopub_msg_rate_limit`.\n",
      "\n",
      "Current values:\n",
      "NotebookApp.iopub_msg_rate_limit=1000.0 (msgs/sec)\n",
      "NotebookApp.rate_limit_window=3.0 (secs)\n",
      "\n"
     ]
    }
   ],
   "source": [
    "dirs = [\"test1/logits/\", \"test2/logits/\", \"test3/logits/\", \"test4/logits/\", \"test5/logits/\"]\n",
    "logits, ids = [], []\n",
    "\n",
    "for name in os.listdir(dirs[0]):\n",
    "    name = name.split(\".\")[0]\n",
    "    id_ = name.split(\"_\")[0]\n",
    "    ids.append(id_)\n",
    "    \n",
    "ids = list(set(ids))\n",
    "    \n",
    "for id_ in tqdm_notebook(ids):\n",
    "    logit_list = []\n",
    "    for dirname in dirs:\n",
    "        suffix = \"\"\n",
    "        name = id_ + suffix + \".npy\"\n",
    "        path = os.path.join(dirname, name)\n",
    "        logit = np.load(path)\n",
    "        logit_list.append(logit)\n",
    "        \n",
    "        suffix = \"_flipped\"\n",
    "        name = id_ + suffix + \".npy\"\n",
    "        path = os.path.join(dirname, name)\n",
    "        logit = np.load(path)\n",
    "        logit = logit[:,::-1]\n",
    "        logit_list.append(logit)\n",
    "        \n",
    "    logit = np.mean(np.array(logit_list), axis=0)\n",
    "    logit = logit[27:-27,27:-27]\n",
    "    logit = cv2.resize(logit, dsize=(101, 101))\n",
    "    logits.append(logit)\n",
    "logits = np.array(logits)"
   ]
  },
  {
   "cell_type": "code",
   "execution_count": 12,
   "metadata": {},
   "outputs": [],
   "source": [
    "import pickle\n",
    "np.save(\"logits\", logits)\n",
    "with open(\"ids.pkl\", \"wb\") as f:\n",
    "    pickle.dump(ids, f)"
   ]
  },
  {
   "cell_type": "code",
   "execution_count": 13,
   "metadata": {},
   "outputs": [
    {
     "data": {
      "text/plain": [
       "((18000, 101, 101), 18000)"
      ]
     },
     "execution_count": 13,
     "metadata": {},
     "output_type": "execute_result"
    }
   ],
   "source": [
    "logits.shape, len(ids)"
   ]
  },
  {
   "cell_type": "code",
   "execution_count": 14,
   "metadata": {},
   "outputs": [],
   "source": [
    "preds = (logits > 0).astype(int)"
   ]
  },
  {
   "cell_type": "code",
   "execution_count": 15,
   "metadata": {},
   "outputs": [
    {
     "data": {
      "application/vnd.jupyter.widget-view+json": {
       "model_id": "bcb24ed2ef8c48c2b2b386cf56afa1b4",
       "version_major": 2,
       "version_minor": 0
      },
      "text/plain": [
       "HBox(children=(IntProgress(value=0, max=18000), HTML(value='')))"
      ]
     },
     "metadata": {},
     "output_type": "display_data"
    }
   ],
   "source": [
    "preds = force_zero_empty(os.path.join(PATH_TO_TEST, \"images\"), ids, preds, verbose=1)"
   ]
  },
  {
   "cell_type": "code",
   "execution_count": 16,
   "metadata": {},
   "outputs": [],
   "source": [
    "prepare_submit(preds, ids, \"smbt41.csv\")"
   ]
  },
  {
   "cell_type": "code",
   "execution_count": 17,
   "metadata": {},
   "outputs": [
    {
     "name": "stdout",
     "output_type": "stream",
     "text": [
      "Successfully submitted to TGS Salt Identification Challenge"
     ]
    }
   ],
   "source": [
    "!kaggle competitions submit -c tgs-salt-identification-challenge -f smbt41.csv -m \"ResNet34 Lovasz 5 fold flip tta pl\""
   ]
  },
  {
   "cell_type": "code",
   "execution_count": 18,
   "metadata": {},
   "outputs": [],
   "source": [
    "sum = preds.sum(axis=(1, 2))"
   ]
  },
  {
   "cell_type": "code",
   "execution_count": 19,
   "metadata": {},
   "outputs": [],
   "source": [
    "preds2 = preds\n",
    "preds2[sum < 10] = 0\n",
    "prepare_submit(preds2, ids, \"smbt42.csv\")"
   ]
  },
  {
   "cell_type": "code",
   "execution_count": 20,
   "metadata": {},
   "outputs": [
    {
     "name": "stdout",
     "output_type": "stream",
     "text": [
      "Successfully submitted to TGS Salt Identification Challenge"
     ]
    }
   ],
   "source": [
    "!kaggle competitions submit -c tgs-salt-identification-challenge -f smbt42.csv -m \"ResNet34 Lovasz 5 fold flip tta pl; less 10 to zero;\""
   ]
  },
  {
   "cell_type": "code",
   "execution_count": null,
   "metadata": {},
   "outputs": [],
   "source": []
  }
 ],
 "metadata": {
  "kernelspec": {
   "display_name": "Python 3",
   "language": "python",
   "name": "python3"
  },
  "language_info": {
   "codemirror_mode": {
    "name": "ipython",
    "version": 3
   },
   "file_extension": ".py",
   "mimetype": "text/x-python",
   "name": "python",
   "nbconvert_exporter": "python",
   "pygments_lexer": "ipython3",
   "version": "3.5.2"
  }
 },
 "nbformat": 4,
 "nbformat_minor": 2
}
