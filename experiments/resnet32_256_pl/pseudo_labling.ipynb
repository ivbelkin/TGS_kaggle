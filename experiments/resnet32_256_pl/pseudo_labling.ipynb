{
 "cells": [
  {
   "cell_type": "code",
   "execution_count": 1,
   "metadata": {},
   "outputs": [],
   "source": [
    "import numpy as np\n",
    "import torch\n",
    "import cv2\n",
    "import matplotlib.pyplot as plt\n",
    "import os\n",
    "import multiprocessing as mp\n",
    "import seaborn as sns\n",
    "\n",
    "from code.models import basicunet, resnetunet\n",
    "from code.datasets import TGSTTADataset\n",
    "from code.configs import *\n",
    "from code.train import *\n",
    "from code.losses import FocalRobustLoss\n",
    "from code.metrics import *\n",
    "from code.augmentations import *\n",
    "from code.utils import *\n",
    "from torch.utils.data import DataLoader\n",
    "from IPython.display import clear_output\n",
    "from code.inference import *\n",
    "\n",
    "%matplotlib inline"
   ]
  },
  {
   "cell_type": "code",
   "execution_count": 2,
   "metadata": {},
   "outputs": [],
   "source": [
    "dirs = [\"../resnet32_256/test1/logits/\", \"../resnet32_256/test2/logits/\", \n",
    "        \"../resnet32_256/test3/logits/\", \"../resnet32_256/test4/logits/\", \n",
    "        \"../resnet32_256/test5/logits/\"]\n",
    "logits, ids = [], []\n",
    "\n",
    "for name in os.listdir(dirs[0]):\n",
    "    name = name.split(\".\")[0]\n",
    "    id_ = name.split(\"_\")[0]\n",
    "    ids.append(id_)\n",
    "    \n",
    "ids = sorted(list(set(ids)))"
   ]
  },
  {
   "cell_type": "code",
   "execution_count": null,
   "metadata": {},
   "outputs": [
    {
     "data": {
      "application/vnd.jupyter.widget-view+json": {
       "model_id": "a53633087b974562a4eab11835ce4a2b",
       "version_major": 2,
       "version_minor": 0
      },
      "text/plain": [
       "HBox(children=(IntProgress(value=0, max=18000), HTML(value='')))"
      ]
     },
     "metadata": {},
     "output_type": "display_data"
    }
   ],
   "source": [
    "for id_ in tqdm_notebook(ids):\n",
    "    logit_list = []\n",
    "    for dirname in dirs:\n",
    "        suffix = \"\"\n",
    "        name = id_ + suffix + \".npy\"\n",
    "        path = os.path.join(dirname, name)\n",
    "        logit = np.load(path)\n",
    "        logit_list.append(logit)\n",
    "        \n",
    "        suffix = \"_flipped\"\n",
    "        name = id_ + suffix + \".npy\"\n",
    "        path = os.path.join(dirname, name)\n",
    "        logit = np.load(path)\n",
    "        logit = logit[:,::-1]\n",
    "        logit_list.append(logit)\n",
    "        \n",
    "    logit = np.mean(np.array(logit_list), axis=0)\n",
    "    logit = logit[27:-27,27:-27]\n",
    "    logit = cv2.resize(logit, dsize=(101, 101))\n",
    "    logits.append(logit)\n",
    "logits = np.array(logits)"
   ]
  },
  {
   "cell_type": "code",
   "execution_count": null,
   "metadata": {},
   "outputs": [],
   "source": [
    "import pickle\n",
    "np.save(\"logits\", logits)\n",
    "with open(\"ids.pkl\", \"wb\") as f:\n",
    "    pickle.dump(ids, f)"
   ]
  },
  {
   "cell_type": "code",
   "execution_count": null,
   "metadata": {},
   "outputs": [],
   "source": []
  },
  {
   "cell_type": "code",
   "execution_count": null,
   "metadata": {},
   "outputs": [],
   "source": [
    "!sudo poweroff"
   ]
  },
  {
   "cell_type": "code",
   "execution_count": null,
   "metadata": {},
   "outputs": [],
   "source": []
  },
  {
   "cell_type": "code",
   "execution_count": 6,
   "metadata": {},
   "outputs": [],
   "source": [
    "import pickle\n",
    "logits = np.load(\"logits.npy\")\n",
    "with open(\"../resnet32_256/ids.pkl\", \"rb\") as f:\n",
    "    ids = pickle.load(f)"
   ]
  },
  {
   "cell_type": "code",
   "execution_count": 6,
   "metadata": {},
   "outputs": [],
   "source": []
  },
  {
   "cell_type": "code",
   "execution_count": null,
   "metadata": {},
   "outputs": [],
   "source": [
    "logits.shape, len(ids)"
   ]
  },
  {
   "cell_type": "code",
   "execution_count": null,
   "metadata": {},
   "outputs": [],
   "source": [
    "def sigmoid(x):\n",
    "    return 1. / (1. + np.exp(-x))"
   ]
  },
  {
   "cell_type": "code",
   "execution_count": null,
   "metadata": {},
   "outputs": [],
   "source": [
    "probs = sigmoid(logits)"
   ]
  },
  {
   "cell_type": "code",
   "execution_count": null,
   "metadata": {},
   "outputs": [],
   "source": [
    "preds = (probs > 0.5).astype(int)"
   ]
  },
  {
   "cell_type": "code",
   "execution_count": 43,
   "metadata": {},
   "outputs": [
    {
     "data": {
      "text/plain": [
       "<matplotlib.image.AxesImage at 0x7f97a1580470>"
      ]
     },
     "execution_count": 43,
     "metadata": {},
     "output_type": "execute_result"
    },
    {
     "data": {
      "image/png": "[encoded data removed]",
      "text/plain": [
       "<Figure size 432x288 with 1 Axes>"
      ]
     },
     "metadata": {
      "needs_background": "light"
     },
     "output_type": "display_data"
    }
   ],
   "source": [
    "plt.imshow(preds[-10101])"
   ]
  },
  {
   "cell_type": "code",
   "execution_count": 3,
   "metadata": {},
   "outputs": [
    {
     "data": {
      "text/plain": [
       "'a0b00e7922'"
      ]
     },
     "execution_count": 3,
     "metadata": {},
     "output_type": "execute_result"
    }
   ],
   "source": [
    "ids[-10101]"
   ]
  },
  {
   "cell_type": "code",
   "execution_count": null,
   "metadata": {},
   "outputs": [],
   "source": [
    "for p, id_ in zip(preds, ids):\n",
    "    target_name = \"{}.png\".format(id_)\n",
    "    src_name = os.path.join(PATH_TO_TEST, \"images\", target_name)\n",
    "    cv2.imwrite(os.path.join(\"./test_pl/masks/\", target_name), 255 * p)\n",
    "    os.link(src_name, os.path.join(\"./test_pl/images/\", target_name))"
   ]
  },
  {
   "cell_type": "code",
   "execution_count": null,
   "metadata": {},
   "outputs": [],
   "source": []
  },
  {
   "cell_type": "code",
   "execution_count": null,
   "metadata": {},
   "outputs": [],
   "source": [
    "mask = read_mask(\"./test_pl/masks/e093696fc6.png\")\n",
    "image = read_image(\"./test_pl/images/e093696fc6.png\")"
   ]
  },
  {
   "cell_type": "code",
   "execution_count": null,
   "metadata": {},
   "outputs": [],
   "source": [
    "plt.imshow(mask)"
   ]
  },
  {
   "cell_type": "code",
   "execution_count": null,
   "metadata": {},
   "outputs": [],
   "source": [
    "plt.imshow(image)"
   ]
  },
  {
   "cell_type": "code",
   "execution_count": null,
   "metadata": {},
   "outputs": [],
   "source": []
  }
 ],
 "metadata": {
  "kernelspec": {
   "display_name": "Python 3",
   "language": "python",
   "name": "python3"
  },
  "language_info": {
   "codemirror_mode": {
    "name": "ipython",
    "version": 3
   },
   "file_extension": ".py",
   "mimetype": "text/x-python",
   "name": "python",
   "nbconvert_exporter": "python",
   "pygments_lexer": "ipython3",
   "version": "3.5.2"
  }
 },
 "nbformat": 4,
 "nbformat_minor": 2
}
